{
 "cells": [
  {
   "cell_type": "code",
   "execution_count": 2,
   "id": "56d45504-aa74-4939-b8d2-7b2dfc3c1321",
   "metadata": {},
   "outputs": [],
   "source": [
    "import csv \n",
    "import numpy as np \n",
    "import matplotlib.pyplot as plt \n",
    "import pandas as pd \n",
    "import scipy as sp \n",
    "import os \n",
    "import scipy.stats as stats \n",
    "from scipy.stats import norm \n",
    "import matplotlib.mlab as mlab \n",
    "from statistics import mean"
   ]
  },
  {
   "cell_type": "code",
   "execution_count": null,
   "id": "5372e92f-88aa-419a-982e-2ab4c91b46d7",
   "metadata": {},
   "outputs": [],
   "source": [
    "#frequency:\n",
    "def f0(f_list, P_list):\n",
    "    return f_list[P_list.index(max(P_list))]\n",
    "\n",
    "#for calibration:\n",
    "from scipy.constants import pi, k, N_A\n",
    "\n",
    "r = 71.5 * 10**(-9) #particle radius in m\n",
    "T = 293 #room temperature\n",
    "den = 1850 #density of silica in kg/m taken from the website that sells the particles\n",
    "vol = (3/4) * pi * r**3 #volume of the particle\n",
    "mass = den * vol\n",
    "\n",
    "#stiffness:\n",
    "def stfns(f0):\n",
    "    return (2*pi*f0)**2 * mass\n",
    "\n",
    "#the calibration constant \n",
    "#sigma is the sqrt of the variance found from fitting the distributions\n",
    "def calb(sigma, stfns):\n",
    "    return (1/sigma) * math.sqrt(k * T /stfns)\n",
    "\n",
    "#calibrating the data: \n",
    "#V_list: the list of signal in V data (after frequency filtering)\n",
    "def cal_list(calb, V_list):\n",
    "    return [calb * i for i in V_list]"
   ]
  },
  {
   "cell_type": "code",
   "execution_count": null,
   "id": "4a99dad9-fcca-4831-84a7-ea1b967c2707",
   "metadata": {},
   "outputs": [],
   "source": []
  }
 ],
 "metadata": {
  "kernelspec": {
   "display_name": "Python 3 (ipykernel)",
   "language": "python",
   "name": "python3"
  },
  "language_info": {
   "codemirror_mode": {
    "name": "ipython",
    "version": 3
   },
   "file_extension": ".py",
   "mimetype": "text/x-python",
   "name": "python",
   "nbconvert_exporter": "python",
   "pygments_lexer": "ipython3",
   "version": "3.9.12"
  }
 },
 "nbformat": 4,
 "nbformat_minor": 5
}
