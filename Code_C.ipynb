{
 "cells": [
  {
   "cell_type": "code",
   "execution_count": 4,
   "id": "ab5bde1a-c200-40b1-9b6d-bac77033cf4e",
   "metadata": {},
   "outputs": [],
   "source": [
    "import csv \n",
    "import numpy as np \n",
    "import matplotlib.pyplot as plt \n",
    "import pandas as pd \n",
    "import scipy as sp \n",
    "import os \n",
    "import scipy.stats as stats \n",
    "from scipy.stats import norm \n",
    "import matplotlib.mlab as mlab \n",
    "from statistics import mean"
   ]
  },
  {
   "cell_type": "code",
   "execution_count": 5,
   "id": "a791e0cf-6010-4b0b-aa6e-0b15db44ee20",
   "metadata": {},
   "outputs": [
    {
     "ename": "ModuleNotFoundError",
     "evalue": "No module named 'lmfit'",
     "output_type": "error",
     "traceback": [
      "\u001b[1;31m---------------------------------------------------------------------------\u001b[0m",
      "\u001b[1;31mModuleNotFoundError\u001b[0m                       Traceback (most recent call last)",
      "Input \u001b[1;32mIn [5]\u001b[0m, in \u001b[0;36m<cell line: 29>\u001b[1;34m()\u001b[0m\n\u001b[0;32m     26\u001b[0m     \u001b[38;5;28;01mreturn\u001b[39;00m \u001b[38;5;241m1\u001b[39m\u001b[38;5;241m/\u001b[39mA\n\u001b[0;32m     28\u001b[0m \u001b[38;5;66;03m#lmfit module has to be installed \u001b[39;00m\n\u001b[1;32m---> 29\u001b[0m \u001b[38;5;28;01mfrom\u001b[39;00m \u001b[38;5;21;01mlmfit\u001b[39;00m \u001b[38;5;28;01mimport\u001b[39;00m Model, Parameter, report_fit \n\u001b[0;32m     30\u001b[0m model \u001b[38;5;241m=\u001b[39m Model(theoreticalfit, independent_vars\u001b[38;5;241m=\u001b[39m[\u001b[38;5;124m'\u001b[39m\u001b[38;5;124mfre\u001b[39m\u001b[38;5;124m'\u001b[39m]) \n\u001b[0;32m     31\u001b[0m results \u001b[38;5;241m=\u001b[39m model\u001b[38;5;241m.\u001b[39mfit(vhPA[\u001b[38;5;241m5\u001b[39m:], fre\u001b[38;5;241m=\u001b[39mvhfA[\u001b[38;5;241m5\u001b[39m:], damp\u001b[38;5;241m=\u001b[39m\u001b[38;5;241m100000\u001b[39m, f0\u001b[38;5;241m=\u001b[39m\u001b[38;5;241m100000\u001b[39m, A\u001b[38;5;241m=\u001b[39m\u001b[38;5;241m1e6\u001b[39m) \n",
      "\u001b[1;31mModuleNotFoundError\u001b[0m: No module named 'lmfit'"
     ]
    }
   ],
   "source": [
    "#defining the constants; \n",
    "import math \n",
    "from scipy.constants import pi, k, N_A, epsilon_0, c \n",
    "\n",
    "r = 71.5 * 10**(-9) #particle radius in m \n",
    "T = 293 #temperature \n",
    "den = 1850 #density of silica in kg/m \n",
    "vol = (4/3) * pi * r**3 #volume of the particle \n",
    "mass = den * vol #particle mass \n",
    "d_m=0.372*1e-9 #diameter of air molecules \n",
    "M = 28.97 * 10**(-3) #air in 1 mol in kg/mol \n",
    "mu_v=2*np.sqrt(M*k*T/N_A)/(3*np.sqrt(pi)*pi*d_m**2) #viscocity coeffecient \n",
    "#damping rate- defines expected damping rate: \n",
    "def gamma(pres, temp): \n",
    "    meanfreepath = k*temp/(math.sqrt(2)*pi*(d_m)**2 * pres) \n",
    "    K_n = meanfreepath/r #Knudsen number \n",
    "    C_k = 0.3 * K_n /(0.785 + 1.152 * K_n + K_n**2); \n",
    "    return (6*pi*mu_v*r /mass) * (0.619/(0.619 + K_n)) * (1+C_k) \n",
    "\n",
    "#the equation to be fitted (eq. 3.7) \n",
    "def theoreticalfit(fre, damp,f0,A): \n",
    "    return [((k*T/(pi*mass))* 2*pi*damp/(((2*pi*f0)**2- (2*pi*i)**2)**2 + (2*pi*i)**2 * (2*pi*damp)**2)) * A**2 for i in fre]\n",
    "\n",
    "#the calibration constant in m/V: \n",
    "def calib(A): \n",
    "    return 1/A\n",
    "\n",
    "#lmfit module has to be installed \n",
    "from lmfit import Model, Parameter, report_fit \n",
    "model = Model(theoreticalfit, independent_vars=['fre']) \n",
    "results = model.fit(vhPA[5:], fre=vhfA[5:], damp=100000, f0=100000, A=1e6) \n",
    "\n",
    "print(lmfit.fit_report(results.params)) #outputs the fitted parameters and their errors"
   ]
  },
  {
   "cell_type": "code",
   "execution_count": null,
   "id": "c5357252-5a38-4516-87ca-df81dfb91434",
   "metadata": {},
   "outputs": [],
   "source": []
  }
 ],
 "metadata": {
  "kernelspec": {
   "display_name": "Python 3 (ipykernel)",
   "language": "python",
   "name": "python3"
  },
  "language_info": {
   "codemirror_mode": {
    "name": "ipython",
    "version": 3
   },
   "file_extension": ".py",
   "mimetype": "text/x-python",
   "name": "python",
   "nbconvert_exporter": "python",
   "pygments_lexer": "ipython3",
   "version": "3.9.12"
  }
 },
 "nbformat": 4,
 "nbformat_minor": 5
}
